{
 "cells": [
  {
   "cell_type": "markdown",
   "id": "ed4172ea-80e4-4c3c-9a78-0500c2a1b72a",
   "metadata": {},
   "source": [
    "## SOFT MATTER - FINAL WORK\n",
    "Author: Margot Inés Paco Chipana"
   ]
  },
  {
   "cell_type": "code",
   "execution_count": 1,
   "id": "4a2e3376-3ded-49dd-bd75-87b17a109bad",
   "metadata": {},
   "outputs": [],
   "source": [
    "import numpy as np\n",
    "import math\n",
    "import matplotlib.pyplot as plt"
   ]
  },
  {
   "cell_type": "code",
   "execution_count": 2,
   "id": "1c2bc84a-4908-4312-b4fd-b7fd1bced4fc",
   "metadata": {},
   "outputs": [
    {
     "data": {
      "text/plain": [
       "array(2704)"
      ]
     },
     "execution_count": 2,
     "metadata": {},
     "output_type": "execute_result"
    }
   ],
   "source": [
    "natom = np.loadtxt(\"water3/trajectory500.xyz\", dtype=int,max_rows=1)\n",
    "natom"
   ]
  },
  {
   "cell_type": "code",
   "execution_count": 3,
   "id": "52d14816-0211-46bc-bfd1-4003f720405f",
   "metadata": {},
   "outputs": [],
   "source": [
    "delta = natom+2\n",
    "frames = 500\n",
    "data_frame=[]"
   ]
  },
  {
   "cell_type": "code",
   "execution_count": 4,
   "id": "a83b5829-03f8-4fad-94a5-6812679e3b95",
   "metadata": {},
   "outputs": [],
   "source": [
    "for i in range(frames):\n",
    "    data_frame.append(np.loadtxt(\"water3/trajectory500.xyz\", dtype={'names':('atom','x','y','z'), 'formats':('S3','f8','f8','f8')}, skiprows=2+(delta*i),max_rows=natom))"
   ]
  },
  {
   "cell_type": "code",
   "execution_count": 5,
   "id": "938f5712-1370-4626-94ef-baf9dcca753a",
   "metadata": {
    "tags": []
   },
   "outputs": [],
   "source": [
    "#data_frame\n",
    "#data_frame[0]['atom']"
   ]
  },
  {
   "cell_type": "code",
   "execution_count": 6,
   "id": "297708e9-14c0-4984-a4b5-83ac50c352d1",
   "metadata": {},
   "outputs": [],
   "source": [
    "def module(vector):\n",
    "    return np.sqrt(vector[0]**2 + vector[1]**2 + vector[2]**2)"
   ]
  },
  {
   "cell_type": "code",
   "execution_count": 7,
   "id": "28d62816-408d-4b07-8c67-4808936e3cdb",
   "metadata": {},
   "outputs": [],
   "source": [
    "def unit_vect(vector):\n",
    "    modul = module(vector)\n",
    "    if modul != 0:\n",
    "        return [vector[0] / modul, vector[1] / modul, vector[2] / modul]\n",
    "    else:\n",
    "        return [0, 0, 0]"
   ]
  },
  {
   "cell_type": "code",
   "execution_count": 19,
   "id": "3df50641-f0dd-4edd-9190-a01c44b7f76e",
   "metadata": {},
   "outputs": [],
   "source": [
    "def direct_vdipol(data_frame,f):\n",
    "    \"\"\"\n",
    "    input\n",
    "    -----\n",
    "    data_frame : type list ('atom', 'S3'), ('x', '<f8'), ('y', '<f8'), ('z', '<f8'), required\n",
    "        Trajectory of all water molecules.\n",
    "    f : int, required \n",
    "        Number of frame.\n",
    "    output\n",
    "    ------\n",
    "    mu : list (array 3D), required\n",
    "        Direction of the water\n",
    "    \"\"\"\n",
    "    mu=[]\n",
    "    for element in data_frame[f]:\n",
    "        atom = element['atom']\n",
    "        if atom == b'OH2':\n",
    "            x1 = element['x']; y1 = element['y']; z1 = element['z']\n",
    "            #print(f\"Atom: {atom}, x: {x}, y: {y}, z: {z}\")\n",
    "        if atom == b'H1':\n",
    "            x2 = element['x']; y2 = element['y']; z2 = element['z']\n",
    "        if atom == b'H2':\n",
    "            x3 = element['x']; y3 = element['y']; z3 = element['z']\n",
    "            \n",
    "            #vectors components\n",
    "            vector1 = [x2 - x1, y2 - y1, z2 - z1]\n",
    "            vector2 = [x3 - x1, y3 - y1, z3 - z1]\n",
    "            #resultant vector\n",
    "            resultant = [vector1[0]+vector2[0], vector1[1]+vector2[1], vector1[2]+vector2[2]]\n",
    "            #resultant unit vector\n",
    "            resultant_unit_vect = unit_vect(resultant)\n",
    "            mu.append(resultant_unit_vect)\n",
    "    return np.array(mu)"
   ]
  },
  {
   "cell_type": "code",
   "execution_count": 9,
   "id": "0fceae9e-c0c1-4ee9-9f62-f054ddda7911",
   "metadata": {},
   "outputs": [],
   "source": [
    "file=open('water3.dat','w')"
   ]
  },
  {
   "cell_type": "code",
   "execution_count": 10,
   "id": "23b67e5c-cceb-46d5-ace5-71d44c07b163",
   "metadata": {
    "tags": []
   },
   "outputs": [],
   "source": [
    "C1=direct_vdipol(data_frame,0)\n",
    "nmol = len(C1)\n",
    "average = []\n",
    "for j in range(frames):\n",
    "    prod_esc=[]\n",
    "    C2=direct_vdipol(data_frame,j)\n",
    "    for k in range(nmol):\n",
    "        #print(C2[k]@C1[k])\n",
    "        prod_esc.append(C2[k]@C1[k])\n",
    "    average.append(np.mean(prod_esc))"
   ]
  },
  {
   "cell_type": "code",
   "execution_count": 11,
   "id": "4a565344-0c95-49c3-9e00-bae9d5807e9e",
   "metadata": {
    "tags": []
   },
   "outputs": [],
   "source": [
    "y=average[::25]\n",
    "x=np.linspace(0,10,20)"
   ]
  },
  {
   "cell_type": "code",
   "execution_count": 18,
   "id": "5c0a8d23-17ac-475e-b90f-b76c86a96a3f",
   "metadata": {},
   "outputs": [
    {
     "data": {
      "image/png": "[encoded data removed]",
      "text/plain": [
       "<Figure size 640x480 with 1 Axes>"
      ]
     },
     "metadata": {},
     "output_type": "display_data"
    }
   ],
   "source": [
    "plt.plot(x,y)\n",
    "plt.xlabel('time (ps)')\n",
    "plt.ylabel('Coorelation (t)') #coorelation function of water molecules located at distances from the membrane\n",
    "plt.show()"
   ]
  },
  {
   "cell_type": "code",
   "execution_count": 13,
   "id": "00dcd6fd-61ca-4dda-8ff6-6bfd3481e00f",
   "metadata": {},
   "outputs": [],
   "source": [
    "for i in range(len(x)):\n",
    "    file.write('%14.8f %14.8f\\n'%(x[i],y[i]))\n",
    "file.close()"
   ]
  },
  {
   "cell_type": "code",
   "execution_count": null,
   "id": "c3a82216-7951-4f81-a321-d2a7e413700d",
   "metadata": {},
   "outputs": [],
   "source": []
  }
 ],
 "metadata": {
  "kernelspec": {
   "display_name": "Python 3 (ipykernel)",
   "language": "python",
   "name": "python3"
  },
  "language_info": {
   "codemirror_mode": {
    "name": "ipython",
    "version": 3
   },
   "file_extension": ".py",
   "mimetype": "text/x-python",
   "name": "python",
   "nbconvert_exporter": "python",
   "pygments_lexer": "ipython3",
   "version": "3.9.15"
  }
 },
 "nbformat": 4,
 "nbformat_minor": 5
}
